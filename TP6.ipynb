{
 "cells": [
  {
   "cell_type": "markdown",
   "metadata": {},
   "source": [
    "# TP 6- Intégration Numérique"
   ]
  },
  {
   "cell_type": "markdown",
   "metadata": {},
   "source": [
    "Dans ce TP, on s'intéresse aux algorithmes permettant le calcul numérique d'intégrales. Il s'agit bien sûr de faire du calcul approché. Le principe général est de découper l'intervalle d'intégration en petits morçeau, et d'approcher sur chacun de ces petits intervalles la courbe représentative de $f$ par une courbe très simple pour laquelle le calcul d'aire est facile.\n",
    "\n",
    "Dans un premier temps, on considère une fonction d'une seule variable $f(x)$ définie par: \n",
    "\\begin{equation}\\label{f}\n",
    "f(x):=\\begin{cases}\\displaystyle\\frac{\\sin((k+0.5)x)}{\\sin(0.5x)}, & \\text{si }x\\neq 0,\\\\\n",
    "2k+1, & \\text{si }x= 0,\n",
    "\\end{cases}\n",
    "\\end{equation}\n",
    "sur l'intervalle $[0,\\pi]$, pour $k=6, 10, 18$.\n"
   ]
  },
  {
   "cell_type": "code",
   "execution_count": null,
   "metadata": {},
   "outputs": [],
   "source": [
    "import math\n",
    "import numpy as np\n",
    "\n",
    "\n",
    "def f(x):\n",
    "    #à compléter\n"
   ]
  },
  {
   "cell_type": "code",
   "execution_count": null,
   "metadata": {},
   "outputs": [],
   "source": [
    "def repartition_points(x_min,x_max,N_noeuds):\n",
    "    \"\"\"\n",
    "    repartition de l'intervalle avec des points equidistants\n",
    "    \"\"\"\n",
    "    val = np.zeros(N_noeuds)\n",
    "    for i in range(0,N_noeuds):\n",
    "        val[i] = x_min + (i*1.) * (x_max-x_min) / (N_noeuds-1.)\n",
    "    return val"
   ]
  },
  {
   "cell_type": "markdown",
   "metadata": {},
   "source": [
    "\n",
    "### Question 1\n",
    "Calculer à la main l'intégrale de l'interpolation constante de $f$ au noeud $x_i$ sur un intervalle $[x_i,x_{i+1}]$. En utilisant cette formule, implémenter un algorithme pour calculer l'intégrale de l'interpolation constante par morceaux de $f$ à $N$ noeuds équidistants.\n",
    "Cette méthode d'approximation numérique d'intégrale s'appelle méthode des rectangles. \n"
   ]
  },
  {
   "cell_type": "code",
   "execution_count": null,
   "metadata": {},
   "outputs": [],
   "source": [
    "def rectangle(noeuds,f):\n",
    "    N=len(noeuds)\n",
    "    I=0. \n",
    "    #à compléter\n",
    "    return I"
   ]
  },
  {
   "cell_type": "markdown",
   "metadata": {},
   "source": [
    "### Question 2\n",
    "Calculer à la main l'intégrale de l'interpolation affine de $f$ aux noeuds $x_i, x_{i+1}$ sur un intervalle $[x_i,x_{i+1}]$. En utilisant cette formule, implémenter un algorithme pour calculer l'intégrale de l'interpolation affine par morceaux de $f$ à $N$ noeuds équidistants. Cette méthode d'approximation numérique d'intégrale s'appelle méthode des trapèzes."
   ]
  },
  {
   "cell_type": "code",
   "execution_count": null,
   "metadata": {},
   "outputs": [],
   "source": [
    "def trapeze(noeuds,f):\n",
    "    N=len(noeuds)\n",
    "    I=0. \n",
    "    #à compléter\n",
    "    return I"
   ]
  },
  {
   "cell_type": "markdown",
   "metadata": {},
   "source": [
    "### Question 3\n",
    "Calculer à la main l'intégrale de l'interpolation de degré $2$ de $f$ aux noeuds $\\displaystyle x_i, \\frac{(x_i+x_{i+1})}{2}, x_{i+1}$ sur un intervalle $[x_i,x_{i+1}]$. En utilisant cette formule, implémenter un algorithme pour calculer l'intégrale de l'interpolation de degré $2$ par morceaux de $f$ à $N$ noeuds équidistants. Cette méthode d'approximation numérique d'intégrale s'appelle méthode de Simpson.\n"
   ]
  },
  {
   "cell_type": "code",
   "execution_count": null,
   "metadata": {},
   "outputs": [],
   "source": [
    "def simpson(noeuds,f):\n",
    "    N=len(noeuds)\n",
    "    I=0.\n",
    "    #à compléter\n",
    "    return I"
   ]
  },
  {
   "cell_type": "markdown",
   "metadata": {},
   "source": [
    "### Question 4\n",
    "### 4.1\n",
    "Utiliser ces trois méthodes pour approcher $\\displaystyle \\int_0^\\pi f_1 dx$, où $ \\displaystyle f_1=x \\;sin x $.\n",
    "### 4.2\n",
    "Calculer une valeur approchée de cette intégrale avec  une quadrature de la librairie scipy. Comparer les résultats obtenus."
   ]
  },
  {
   "cell_type": "code",
   "execution_count": null,
   "metadata": {},
   "outputs": [],
   "source": [
    "def f1(x):\n",
    "     #à compléter\n",
    "     return 0\n",
    "#solution exacte pi\n",
    "import matplotlib.pyplot as plt\n",
    "x_min=0.\n",
    "x_max=math.pi\n",
    "N_points = 1000\n",
    "grid     = [x_min + (i*1.)*(x_max-x_min)/(N_points*1.) for i in range(0,N_points+1)]\n",
    "vals_f1   = [f1(grid[i]) for i in range(0,N_points+1)]\n",
    "X=repartition_points(x_min,x_max,i) \n",
    "print(rectangle(X,f1),trapeze(X,f1),simpson(X,f1),math.pi )"
   ]
  },
  {
   "cell_type": "markdown",
   "metadata": {},
   "source": [
    "### Question 5\n",
    "Tester ces trois algorithmes sur la fonction.\n"
   ]
  },
  {
   "cell_type": "code",
   "execution_count": null,
   "metadata": {},
   "outputs": [],
   "source": [
    "import matplotlib.pyplot as plt\n",
    "\n",
    "x_min=0.\n",
    "x_max=5\n",
    "\n",
    "\"\"\"\n",
    "construction du maillage et calculs de f \n",
    "\"\"\"\n",
    "\n",
    "N_points = 1000\n",
    "grid     = [x_min + (i*1.)*(x_max-x_min)/(N_points*1.) for i in range(0,N_points+1)]\n",
    "vals_f   = [f(grid[i]) for i in range(0,N_points+1)]\n",
    "\n",
    "\"\"\"\n",
    "figure 1 : Convergence des integrals numeriques\n",
    "\"\"\"\n",
    "print 'Convergence des integrals numeriques'\n",
    "vec_N=range(2,21)\n",
    "r=np.zeros(len(vec_N))\n",
    "t=np.zeros(len(vec_N))\n",
    "s=np.zeros(len(vec_N))\n",
    "for j in range(len(vec_N)):\n",
    "    i=vec_N[j]\n",
    "    X=repartition_points(x_min,x_max,i)\n",
    "    r[j]=rectangle(X,f)\n",
    "    t[j]=trapeze(X,f)\n",
    "    s[j]=simpson(X,f)\n",
    "\n",
    "        \n",
    "fig1   = plt.figure(1)\n",
    "plt.scatter(vec_N, r, color='blue'  , label='rectangle'  )\n",
    "plt.scatter(vec_N, t, color='red'  , label='trapeze'  )\n",
    "plt.scatter(vec_N, s, color='green'  , label='simpson'  )\n",
    "plt.legend()\n",
    "plt.show()\n"
   ]
  },
  {
   "cell_type": "markdown",
   "metadata": {},
   "source": [
    "### Question 6\n",
    "Calculer l'erreur d'approximation pour les trois méthodes par rapport à la dernière valeur obtenue avec la méthode de Simpson (la plus précise). \n"
   ]
  },
  {
   "cell_type": "code",
   "execution_count": null,
   "metadata": {},
   "outputs": [],
   "source": [
    "I_inf=0. # à modifier\n",
    "err_r= np.zeros(len(vec_N)) #à modifier\n",
    "err_t= np.zeros(len(vec_N)) #à modifier\n",
    "err_s= np.zeros(len(vec_N)) #à modifier\n",
    "\n",
    "\n",
    "\"\"\"\n",
    "figure 2 : calcul de l'erreur\n",
    "\"\"\"\n",
    "\n",
    "print 'Erreur de convergence'\n",
    "fig2   = plt.figure(2)\n",
    "plt.scatter(vec_N, err_r, color='blue'  , label='rectangle'  )\n",
    "plt.scatter(vec_N, err_t, color='red'  , label='trapeze'  )\n",
    "plt.scatter(vec_N, err_s, color='green'  , label='simpson'  )\n",
    "plt.axis(ymin=1e-5,ymax=100)\n",
    "plt.yscale('log')\n",
    "plt.legend()\n",
    "plt.show()"
   ]
  },
  {
   "cell_type": "markdown",
   "metadata": {},
   "source": [
    "### Question 7\n",
    "On considère maintenant une fonction de deux variables $g(z,x)$ et on cherche à approcher son intégrale double $$I = \\int_0^\\pi \\left(\\int_0^\\pi g(x,z) dz\\right) dx.$$ Utiliser l'algorithme des rectangles ci-dessus pour approcher chacune de ces deux intégrale l'une après l'autre. Reprendre la question en utilisant l'algorithme des trapèzes et l'algorithme de Simpson. Tester les méthodes sur la fonction et calculer leurs erreurs. Est-ce que l'intégrale approchée par la méthode de trapèze correspond à une intégrale ${\\tilde I}=\\int_0^\\pi \\left(\\int_0^\\pi g_h(x,z) dz\\right) dx.$ Si oui, quelle est cette fonction $g_h$?\n",
    "\\begin{equation}\\label{g}\n",
    "g(z,x)=\\frac{x-\\tan{0.25z}}{\\sqrt{x}+0.1}, \\qquad \\text{pour }z,x\\in[0,\\pi],\n",
    "\\end{equation}"
   ]
  },
  {
   "cell_type": "code",
   "execution_count": null,
   "metadata": {},
   "outputs": [],
   "source": [
    "def g(z,noeuds):\n",
    "\n",
    "     #à compléter\n",
    "     \n",
    "     return 0"
   ]
  },
  {
   "cell_type": "code",
   "execution_count": null,
   "metadata": {},
   "outputs": [],
   "source": [
    "def mult_rectangle(z,noeuds,g):\n",
    "    N=len(noeuds)\n",
    "    Ix=0.  #à compléter\n",
    "        \n",
    "def mult_trapeze(z,noeuds,g):\n",
    "    N=len(noeuds)\n",
    "    Ix=0.  #à compléter\n",
    "\n",
    "def mult_simpson(z,noeuds,g):\n",
    "    N=len(x)\n",
    "    Ix=0.  #à compléter\n",
    "\n",
    "\n",
    "mult_r=np.zeros(len(vec_N))\n",
    "mult_t=np.zeros(len(vec_N))\n",
    "mult_s=np.zeros(len(vec_N))\n",
    "mult_Interp=np.zeros(len(vec_N))\n",
    "for j in range(len(vec_N)):\n",
    "    i=vec_N[j]\n",
    "    X=repartition_points(x_min,x_max,i)\n",
    "    mult_r[j]=mult_rectangle(X,X,g)\n",
    "    mult_t[j]=mult_trapeze(X,X,g)\n",
    "    mult_s[j]=mult_simpson(X,X,g)\n",
    "\n",
    "\n",
    "print 'Convergence des integrals numeriques (deux variables)'       \n",
    "fig3   = plt.figure(3)\n",
    "plt.scatter(vec_N, mult_r, color='blue'  , label='rectangle'  )\n",
    "plt.scatter(vec_N, mult_t, color='red'  , label='trapeze'  )\n",
    "plt.scatter(vec_N, mult_s, color='green'  , label='simpson'  )\n",
    "plt.legend()\n",
    "plt.show() "
   ]
  },
  {
   "cell_type": "markdown",
   "metadata": {},
   "source": [
    "### Question 8\n",
    "Calculer l'erreur d'approximation pour les trois méthodes par rapport à la dernière valeur obtenue avec la méthode de Simpson."
   ]
  },
  {
   "cell_type": "code",
   "execution_count": null,
   "metadata": {},
   "outputs": [],
   "source": [
    "\"\"\"\n",
    "Deux variables : integration numérique des interpolations 2D\n",
    "\"\"\"\n",
    "\n",
    "def Int_interp(noeuds,g):\n",
    "    N=len(x)\n",
    "    I=0.\n",
    "    for i in range(N-1):\n",
    "        for j in range(N-1):\n",
    "            I+=(g(noeuds[i],noeuds[j])+g(noeuds[i+1],noeuds[j])+g(noeuds[i],noeuds[j+1])+g(noeuds[i+1],noeuds[j+1]))*(noeuds[i+1]-noeuds[i])*(noeuds[j+1]-noeuds[j])/4\n",
    "    return I\n",
    "\n",
    "mult_Interp=np.zeros(len(vec_N))\n",
    "for j in range(len(vec_N)):\n",
    "    i=vec_N[j]\n",
    "    X=repartition_points(x_min,x_max,i)\n",
    "    mult_Interp[j]=Int_interp(X,g)\n",
    "#plt.scatter(vec_N, mult_Interp, color='black'  , label='interpolation 2D'  )\n",
    "#plt.legend()\n",
    "#plt.show() \n",
    "Imult_inf=0. #à modifier\n",
    "errmult_r=np.zeros(len(vec_N)) #à modifier\n",
    "errmult_t=np.zeros(len(vec_N)) #à modifier\n",
    "errmult_s=np.zeros(len(vec_N)) #à modifier\n",
    "errmult_Interp=np.zeros(len(vec_N)) #à modifier\n",
    "\n",
    "\"\"\"\n",
    "figure 4 : calcul de l'erreur (deux variables)\n",
    "\"\"\"\n",
    "\n",
    "print 'Erreur de convergence (deux variables)'\n",
    "fig4   = plt.figure(4)\n",
    "plt.scatter(vec_N, errmult_r, color='blue'  , label='rectangle'  )\n",
    "plt.scatter(vec_N, errmult_t, color='red'  , label='trapeze'  )\n",
    "plt.scatter(vec_N, errmult_s, color='green'  , label='simpson'  )\n",
    "plt.scatter(vec_N, errmult_Interp, color='black'  , label='interpolation 2D'  )\n",
    "#plt.yscale('log')\n",
    "plt.legend()\n",
    "plt.show()\n"
   ]
  },
  {
   "attachments": {
    "im-page-001.jpg": {
     "image/jpeg": "[encoded data removed]"
    }
   },
   "cell_type": "markdown",
   "metadata": {},
   "source": [
    "### Question 9\n",
    "On cherche maintenant à approcher l'intégrale de $g$ sur un maillage non-cartésien. Pour cela, chaque rectangle du maillage cartésien est découpé via sa diagonale en deux triangle (voir Fig.1). Nous approchons $g$ par une fonction constante dans chaque triangle, égale à la valeur de $g$ au barycentre du triangle. Calculer la position du barycentre d'un triangle rectangle, puis  calculer l'approximation de l'intégrale de $g$.\n",
    "![im-page-001.jpg](attachment:im-page-001.jpg)"
   ]
  },
  {
   "cell_type": "code",
   "execution_count": null,
   "metadata": {},
   "outputs": [],
   "source": [
    "\n",
    "def quadrature_2D(noeudsx,noeudsy):\n",
    "     ##### à modifier\n",
    "     return 0."
   ]
  }
 ],
 "metadata": {
  "kernelspec": {
   "display_name": "Python 3",
   "language": "python",
   "name": "python3"
  },
  "language_info": {
   "codemirror_mode": {
    "name": "ipython",
    "version": 3
   },
   "file_extension": ".py",
   "mimetype": "text/x-python",
   "name": "python",
   "nbconvert_exporter": "python",
   "pygments_lexer": "ipython3",
   "version": "3.5.2"
  }
 },
 "nbformat": 4,
 "nbformat_minor": 2
}
