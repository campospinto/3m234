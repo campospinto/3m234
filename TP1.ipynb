{
 "cells": [
  {
   "cell_type": "markdown",
   "metadata": {},
   "source": [
    "# TP 1 - Interpolation de Lagrange"
   ]
  },
  {
   "cell_type": "markdown",
   "metadata": {},
   "source": [
    "L'objet de ce TP est de construire et d'étudier des interpolations polynomiales\n",
    "d'une fonction de la forme\n",
    "\n",
    "$$\n",
    "f(x) = \\exp\\left(-\\frac 12\\Big(\\frac{x}{\\varepsilon}\\Big)^2\\right) \\qquad \\text{pour} \\qquad x\\in[-1,+1]\n",
    "$$\n"
   ]
  },
  {
   "cell_type": "code",
   "execution_count": 1,
   "metadata": {},
   "outputs": [],
   "source": [
    "import math\n",
    "import numpy as np\n",
    "import matplotlib.pyplot as plt"
   ]
  },
  {
   "cell_type": "code",
   "execution_count": 2,
   "metadata": {},
   "outputs": [],
   "source": [
    "def f(x):\n",
    "     epsilon = 0.2 #.e-1\n",
    "     return math.exp(-0.5 * (x/epsilon)**2)"
   ]
  },
  {
   "cell_type": "markdown",
   "metadata": {},
   "source": [
    "On peut représenter cette fonction en calculant ses valeurs sur une grille assez fine:"
   ]
  },
  {
   "cell_type": "code",
   "execution_count": 3,
   "metadata": {},
   "outputs": [],
   "source": [
    "x_min    = -1.\n",
    "x_max    =  1.\n",
    "N_points = 300\n",
    "grid     = [x_min + (i*1.)*(x_max-x_min)/(N_points*1.) for i in range(0,N_points+1)]"
   ]
  },
  {
   "cell_type": "code",
   "execution_count": 4,
   "metadata": {},
   "outputs": [
    {
     "data": {
      "image/png": "[encoded data removed]",
      "text/plain": [
       "<Figure size 432x288 with 1 Axes>"
      ]
     },
     "metadata": {},
     "output_type": "display_data"
    }
   ],
   "source": [
    "vals_f   = [f(x) for x in grid]\n",
    "\n",
    "fig1 = plt.figure(1)\n",
    "plt.axis([-1.1, 1.1, -.2, 1.2])\n",
    "plt.plot(grid, vals_f  , color='black'  , label='$f$'  )\n",
    "plt.legend()\n",
    "plt.show()"
   ]
  },
  {
   "cell_type": "markdown",
   "metadata": {},
   "source": [
    "### Question 1.\n",
    "\n",
    "Modifiez le contenu des cellules ci-dessous de telle sorte que la fonction `noeuds_reguliers` calcule des points  \n",
    "\n",
    "$$\n",
    "-1 = x_0 < x_1 < \\dots < x_n = 1\n",
    "$$\n",
    "\n",
    "répartis de façon régulière, et que les fonctions $p_i$, $i = 0, \\ldots, n$, soient des polynômes de $\\mathbb{P}_n$\n",
    "vérifiant \n",
    "\n",
    "$$\n",
    "p_i(x_j) = \\delta_{i,j}, \\qquad \\text{pour} \\quad 0 \\le i, j \\le n. \n",
    "$$\n",
    "\n",
    "On tracera $p_0$ et $p_1$ (avec $n = 5$) pour vérifier. Comment s'appellent ces fonctions $p_i$ ?\n",
    "\n",
    "\n",
    "<!--\n",
    "implémentez une fonction de répartition de $(n+1)$ points $(x_i)_{i=0,...,n}$ équidistants sur $[-1,+1]$.  \n",
    "Construisez et implémentez une fonction de répartition de $(n+1)$ points $(x_i)_{i=0,...,n}$ équidistants sur $[-1,+1]$. \n",
    "\\item Calculez et implémentez les polynômes $p_i$ de base de Lagrange aux $(n+1)$ points $x_i$,  \\textit{i.e.} ceux qui vérifient $$deg(p_i)=n, \\qquad \\forall j \\neq i, \\ p_i(x_j) = 0, \\quad \\text{et} \\quad p_i(x_i) = 1.$$\n",
    "de base de Lagrange aux $(n+1)$ points $x_i$,  \\textit{i.e.} ceux qui vérifient $$deg(p_i)=n, \\qquad \\forall j \\neq i, \\ p_i(x_j) = 0, \\quad \\text{et} \\quad p_i(x_i) = 1.$$\n",
    "-->"
   ]
  },
  {
   "cell_type": "code",
   "execution_count": 44,
   "metadata": {},
   "outputs": [],
   "source": [
    "def noeuds_reguliers(n):\n",
    "    noeuds = np.zeros(n+1)\n",
    "    for i in range(n+1):\n",
    "        noeuds[i] = i\n",
    "    return noeuds\n"
   ]
  },
  {
   "cell_type": "code",
   "execution_count": 45,
   "metadata": {},
   "outputs": [],
   "source": [
    "def p_i(i,x,noeuds):\n",
    "    val = 1.\n",
    "    for j in range(len(noeuds)):\n",
    "        if not j == i:\n",
    "           val += noeuds[j]\n",
    "    return val\n"
   ]
  },
  {
   "cell_type": "code",
   "execution_count": 46,
   "metadata": {},
   "outputs": [
    {
     "data": {
      "image/png": "[encoded data removed]",
      "text/plain": [
       "<Figure size 432x288 with 1 Axes>"
      ]
     },
     "metadata": {},
     "output_type": "display_data"
    }
   ],
   "source": [
    "n = 5\n",
    "\n",
    "vals_p0   = [p_i(0,x,noeuds_reguliers(n)) for x in grid]\n",
    "vals_p1   = [p_i(1,x,noeuds_reguliers(n)) for x in grid]\n",
    "vals_p2   = [p_i(2,x,noeuds_reguliers(n)) for x in grid]\n",
    "\n",
    "fig2 = plt.figure(2)\n",
    "# plt.axis([-1.1, 1.1, -.2, 1.2])\n",
    "plt.plot(noeuds_reguliers(n), 0*noeuds_reguliers(n), 'o', color='black'  , label='noeuds'  )\n",
    "plt.plot(grid, vals_p0, color='black', label='$p_0$'  )\n",
    "plt.plot(grid, vals_p1, color='blue'  , label='$p_1$'  )\n",
    "plt.plot(grid, vals_p2, color='green'  , label='$p_2$'  )\n",
    "plt.legend()\n",
    "plt.show()"
   ]
  },
  {
   "cell_type": "markdown",
   "metadata": {},
   "source": [
    "### Question 2.\n",
    "\n",
    "Modifiez le contenu de la fonction ` I_nf ` ci-dessous pour qu'elle corresponde au polynome $I_n f \\in \\mathbb{P}_n$ qui interpole la fonction $f$ sur les noeuds réguliers $x_0, \\dots, x_n$.\n",
    "\n",
    "Tracez $I_n f$ pour $n \\in \\{1, 2, 3, 6, 10\\}$.\n",
    "Qu'observez vous ?\n",
    "\n"
   ]
  },
  {
   "cell_type": "code",
   "execution_count": 27,
   "metadata": {},
   "outputs": [],
   "source": [
    "def I_nf(x,n):\n",
    "    val = 0.\n",
    "    noeuds = noeuds_reguliers(n)\n",
    "    for i in range(len(noeuds)):\n",
    "        val = f(noeuds[i])\n",
    "    return val\n"
   ]
  },
  {
   "cell_type": "code",
   "execution_count": 47,
   "metadata": {},
   "outputs": [
    {
     "data": {
      "image/png": "[encoded data removed]",
      "text/plain": [
       "<Figure size 432x288 with 1 Axes>"
      ]
     },
     "metadata": {},
     "output_type": "display_data"
    }
   ],
   "source": [
    "n = 12\n",
    "\n",
    "vals_I_nf   = [I_nf(x,n) for x in grid]\n",
    "\n",
    "fig3 = plt.figure(3)\n",
    "# plt.axis([-1.1, 1.1, -.2, 1.2])\n",
    "plt.plot(grid, vals_f, color='black', label='$f$'  )\n",
    "plt.plot(grid, vals_I_nf, color='red', label='$I_nf$'  )\n",
    "plt.legend()\n",
    "plt.show()\n"
   ]
  },
  {
   "cell_type": "markdown",
   "metadata": {},
   "source": [
    "### Question 3.\n",
    "\n",
    "En vous inspirant des questions précédentes, modifiez les cellules ci-dessous de façon à obtenir:\n",
    "  * une fonction `noeuds_chebyshev` qui renvoie les noeuds de Chebyshev \n",
    "  \n",
    "  $$\n",
    "  x^C_i = \\cos\\left(\\frac{\\pi (i+\\frac 12)}{n+1}\\right), \\qquad 0 \\le i \\le n\n",
    "  $$\n",
    "  \n",
    "  dans l'intervalle $[-1,1]$\n",
    "  \n",
    "  * une fonction `IC_nf` correspondant au polynôme $I_n^C f \\in \\mathbb{P}_n$ qui interpole $f$ sur les noeuds de Chebyshev\n",
    "  \n",
    "Tracez $I^C_n f$ pour $n \\in \\{1, 2, 3, 6, 10\\}$.\n",
    "Qu'observez vous ?\n",
    "\n"
   ]
  },
  {
   "cell_type": "code",
   "execution_count": 38,
   "metadata": {},
   "outputs": [],
   "source": [
    "def noeuds_chebyshev(n):\n",
    "    pi  = np.pi\n",
    "    noeuds = np.zeros(n+1)\n",
    "    for i in range(n+1):\n",
    "        noeuds[i] = pi/10\n",
    "    return noeuds\n"
   ]
  },
  {
   "cell_type": "code",
   "execution_count": 39,
   "metadata": {},
   "outputs": [],
   "source": [
    "def IC_nf(x,n):\n",
    "    val = 0.\n",
    "    noeuds = noeuds_chebyshev(n)\n",
    "    for i in range(len(noeuds)):\n",
    "        val = f(noeuds[i])\n",
    "    return val\n"
   ]
  },
  {
   "cell_type": "code",
   "execution_count": 48,
   "metadata": {},
   "outputs": [
    {
     "data": {
      "image/png": "[encoded data removed]",
      "text/plain": [
       "<Figure size 432x288 with 1 Axes>"
      ]
     },
     "metadata": {},
     "output_type": "display_data"
    }
   ],
   "source": [
    "n = 10\n",
    "\n",
    "vals_IC_nf   = [IC_nf(x,n) for x in grid]\n",
    "#plt.axis([-1.1, 1.1, -.2, 1.2])\n",
    "plt.plot(grid, vals_f, color='black', label='$f$'  )\n",
    "plt.plot(grid, vals_IC_nf, color='red', label='$I^C_nf$'  )\n",
    "plt.legend()\n",
    "plt.show()"
   ]
  },
  {
   "cell_type": "markdown",
   "metadata": {},
   "source": [
    "### Question 4.\n",
    "\n",
    "Modifiez les cellules ci-dessous de façon à tracer:\n",
    "\n",
    "  * la courbe des erreurs \n",
    "\n",
    "  $$\n",
    "  e_n = \\| f - I_nf \\|_{L^\\infty,M} \\qquad \\text{ pour } \\quad n \\in \\{1, 2, \\dots, 20 \\}\n",
    "  $$\n",
    "\n",
    "  avec une norme discrète définie par \n",
    "  \n",
    "  $$\n",
    "  \\|g\\|_{L^\\infty,M} = \\max\\limits_{i=0,...,M} |g(y_i)| \\quad \\text{avec } \\quad y_i = -1 + \\frac{2i}{M}\n",
    "  $$\n",
    "  \n",
    "  et $M = 1000$\n",
    "\n",
    "  * une courbe semblable pour les erreurs $e^C_n$ correspondant aux interpolations $I^C_nf$\n",
    "\n",
    "Qu'observez vous ?\n",
    "\n"
   ]
  },
  {
   "cell_type": "code",
   "execution_count": 51,
   "metadata": {},
   "outputs": [],
   "source": [
    "N = 30\n",
    "err_n = range(1,N+1)\n",
    "erreurs = np.zeros(len(err_n))\n",
    "erreursC = np.zeros(len(err_n))\n",
    "\n",
    "vals_f = [f(x) for x in grid]\n",
    "\n",
    "for j in range(len(err_n)):\n",
    "    n = err_n[j]\n",
    "    vals_I_nf = [x for x in grid]\n",
    "    vals_IC_nf = [x/2 for x in grid]\n",
    "\n",
    "    vals_err = [abs(vals_f[i] - vals_I_nf[i]) for i in range(len(grid))]\n",
    "    vals_errC = [abs(vals_f[i] - vals_IC_nf[i]) for i in range(len(grid))]    \n",
    "\n",
    "    erreurs[j] = np.amax(vals_err)\n",
    "    erreursC[j] = np.amax(vals_errC)\n",
    "    "
   ]
  },
  {
   "cell_type": "code",
   "execution_count": 53,
   "metadata": {},
   "outputs": [
    {
     "data": {
      "image/png": "[encoded data removed]",
      "text/plain": [
       "<Figure size 432x288 with 1 Axes>"
      ]
     },
     "metadata": {},
     "output_type": "display_data"
    }
   ],
   "source": [
    "plt.xscale('log')\n",
    "plt.yscale('log')\n",
    "plt.scatter(err_n, erreurs, color='red'  , label='erreur pour des noeuds reguliers'  )\n",
    "plt.scatter(err_n, erreursC, color='blue'  , label='erreur pour des noeuds de Chebyshev'  )\n",
    "plt.legend()\n",
    "plt.show()"
   ]
  },
  {
   "cell_type": "code",
   "execution_count": null,
   "metadata": {},
   "outputs": [],
   "source": []
  }
 ],
 "metadata": {
  "kernelspec": {
   "display_name": "Python 3",
   "language": "python",
   "name": "python3"
  },
  "language_info": {
   "codemirror_mode": {
    "name": "ipython",
    "version": 3
   },
   "file_extension": ".py",
   "mimetype": "text/x-python",
   "name": "python",
   "nbconvert_exporter": "python",
   "pygments_lexer": "ipython3",
   "version": "3.6.4"
  }
 },
 "nbformat": 4,
 "nbformat_minor": 2
}
