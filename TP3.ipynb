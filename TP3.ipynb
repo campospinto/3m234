{
 "cells": [
  {
   "cell_type": "markdown",
   "metadata": {},
   "source": [
    "# TP 3 - Approximation des moindres carres"
   ]
  },
  {
   "cell_type": "markdown",
   "metadata": {},
   "source": [
    "Afin d’exploiter des données expérimentales, nous cherchons une approximation d’une fonction f\n",
    "dont seules les valeurs ”approximatives” $y_i \\simeq f(x_i )$ en certains points $x_i$ sont connues. (Ces données\n",
    "sont construites ici via une fonction bruitée.)"
   ]
  },
  {
   "cell_type": "code",
   "execution_count": 322,
   "metadata": {},
   "outputs": [],
   "source": [
    "import math\n",
    "import numpy as np\n",
    "import matplotlib.pyplot as plt\n",
    "import random as rd\n",
    "import sys\n",
    "import operator"
   ]
  },
  {
   "cell_type": "markdown",
   "metadata": {},
   "source": [
    "On introduit f et sa valeur en des noeuds à approcher:"
   ]
  },
  {
   "cell_type": "code",
   "execution_count": 323,
   "metadata": {},
   "outputs": [],
   "source": [
    "def f(x):\n",
    "\n",
    "    v1 =  2.  + 0.01 * rd.random()\n",
    "    v2 =  3.  + 0.02 * rd.random()\n",
    "    s1 =  4.  + 0.01 * rd.random()\n",
    "    s2 =  6.  + 0.1  * rd.random()\n",
    "    n1 =  0.5 + 0.05 * rd.random()\n",
    "    n2 = -0.5 + 0.05 * rd.random()\n",
    "    return v1*math.exp(-s1*(x-n1)**2) + v2*math.exp(-s2*(x-n2)**2)\n"
   ]
  },
  {
   "cell_type": "code",
   "execution_count": 324,
   "metadata": {},
   "outputs": [],
   "source": [
    "def data(N_points,x_min,x_max):\n",
    "\n",
    "    noeuds = np.zeros(N_points)\n",
    "    val    = np.zeros(N_points)\n",
    "    for i in range(0,N_points):\n",
    "        noeuds[i] = x_min + rd.random() * (x_max-x_min) \n",
    "        val[i]    = f(noeuds[i])*(1 + 0.4*rd.random())\n",
    "    noeuds[0]     = x_min\n",
    "    noeuds[N_points-1]   = x_max\n",
    "    val[0]    = f(noeuds[0])*(1 + 0.4*rd.random())\n",
    "    val[N_points-1]    = f(noeuds[N_points-1])*(1 + 0.4*rd.random())\n",
    "    return [noeuds, val]"
   ]
  },
  {
   "cell_type": "markdown",
   "metadata": {},
   "source": [
    "### Question 1:"
   ]
  },
  {
   "cell_type": "markdown",
   "metadata": {},
   "source": [
    "Modifiez la fonction ci-dessous pour construire la matrice de Vandermonde de degré n associée à un vecteur de noeuds $(x_i)_{i=0,...,m}$\n"
   ]
  },
  {
   "cell_type": "code",
   "execution_count": 353,
   "metadata": {},
   "outputs": [],
   "source": [
    "def Vandermonde_Matrix_construction(n,noeuds):\n",
    "    M = np.zeros((len(noeuds),n+1))\n",
    "    for i in range(0,n+1):\n",
    "        for j in range(0,len(noeuds)):\n",
    "            M[j,i] = noeuds[j]\n",
    "    return M"
   ]
  },
  {
   "cell_type": "markdown",
   "metadata": {},
   "source": [
    "### Question 2:"
   ]
  },
  {
   "cell_type": "markdown",
   "metadata": {},
   "source": [
    "Complétez la fonction `Matrix_tVV` afin de construire la matrice de l'équation normale pour le problème des moindres carrés discrets associée\n",
    "aux noeuds $(x_i)_{i=0,...,m}$ et pour un polynôme de degré n."
   ]
  },
  {
   "cell_type": "code",
   "execution_count": 354,
   "metadata": {},
   "outputs": [],
   "source": [
    "def Matrix_tVV(n,noeuds):\n",
    "    M = Vandermonde_Matrix_construction(n,noeuds)\n",
    "    N= np.zeros((M.shape[1],M.shape[1]))\n",
    "    return N"
   ]
  },
  {
   "cell_type": "markdown",
   "metadata": {},
   "source": [
    "### Question 3:"
   ]
  },
  {
   "cell_type": "markdown",
   "metadata": {},
   "source": [
    "Modifiez la fonction `Vecteur_tVY` pour construire le vecteur de l'équation normale pour le problème des moindres carrés discrets associée\n",
    "aux noeuds $(x_i)_{i=0,...,m}$ et aux valeurs $(y_i)_{i=0,...,m}$ pour un polynôme de degré n.\n",
    "Indication: On pourra utiliser la fonction `np.matmul()` pour le produit de matrices.\n"
   ]
  },
  {
   "cell_type": "code",
   "execution_count": 355,
   "metadata": {},
   "outputs": [],
   "source": [
    "def Vecteur_tVY(n,noeuds,f_noeuds):\n",
    "    M = Vandermonde_Matrix_construction(n,noeuds)\n",
    "    V=np.zeros((M.shape[1]))\n",
    "    return V"
   ]
  },
  {
   "cell_type": "markdown",
   "metadata": {},
   "source": [
    "### Question 4:"
   ]
  },
  {
   "cell_type": "markdown",
   "metadata": {},
   "source": [
    "Complétez la fonction `Polynome_MC` qui renvoie la valeur au point $x$ du polynôme des moindres carrés discret de degrés N associé aux noeuds $(x_i)_{i=0,...,m}$ et aux valeurs $(y_i)_{i=0,...,m}$."
   ]
  },
  {
   "cell_type": "code",
   "execution_count": 356,
   "metadata": {},
   "outputs": [],
   "source": [
    "def coeff_polynomiaux_MC(n,noeuds,f_noeuds):\n",
    "    M = Matrix_tVV(n,noeuds)\n",
    "    V = Vecteur_tVY(n,noeuds,f_noeuds)\n",
    "    return V\n",
    "    #return np.linalg.solve(M,V)"
   ]
  },
  {
   "cell_type": "code",
   "execution_count": 357,
   "metadata": {},
   "outputs": [],
   "source": [
    "def polynome_MC(x,coeff):\n",
    "    val=0\n",
    "    for i in range(0,len(coeff)):\n",
    "        val=coeff[i]\n",
    "    return val"
   ]
  },
  {
   "cell_type": "markdown",
   "metadata": {},
   "source": [
    "### Question 5:"
   ]
  },
  {
   "cell_type": "markdown",
   "metadata": {},
   "source": [
    "Tracer ce polynôme sur $[-1,1]$ et comparer avec les points $(y_i)$ pour $m=50$ points et $n=10$."
   ]
  },
  {
   "cell_type": "code",
   "execution_count": 358,
   "metadata": {},
   "outputs": [
    {
     "data": {
      "image/png": "[encoded data removed]",
      "text/plain": [
       "<Figure size 432x288 with 1 Axes>"
      ]
     },
     "metadata": {},
     "output_type": "display_data"
    }
   ],
   "source": [
    "\"\"\"\n",
    "domaine de definition et nombre de points\n",
    "\"\"\"\n",
    "x_min    = -1.\n",
    "x_max    =  1.\n",
    "\n",
    "N_points = 50\n",
    "\n",
    "N_grid   = 1000\n",
    "grid     = [x_min + (i*1.)*(x_max-x_min)/(N_grid*1.) for i in range(0,N_grid+1)]\n",
    "\n",
    "\"\"\"\n",
    "noeuds x_i et valeurs f(x_i)\n",
    "\"\"\"\n",
    "[noeuds,f_noeuds] = data(N_points,x_min,x_max)\n",
    "\n",
    "\n",
    "\"\"\"\n",
    "construction du polynome d'approximation des moindres carres discrets\n",
    "\"\"\"\n",
    "degre     = 10\n",
    "f_MCD     = np.zeros(N_grid+1)\n",
    "coeff=coeff_polynomiaux_MC(degre,noeuds,f_noeuds)\n",
    "f_MCD = [polynome_MC(x,coeff) for x in grid]\n",
    "\n",
    "fig = plt.figure(1)\n",
    "plt.axis([-1., 1., 0., 5.])\n",
    "plt.scatter(noeuds, f_noeuds  , color='red'  , label='$f$')\n",
    "#plt.plot(   grid,   f_MCD,      color='black', label='$f_{MCD}$')\n",
    "plt.legend()\n",
    "plt.show()\n"
   ]
  },
  {
   "cell_type": "markdown",
   "metadata": {},
   "source": [
    "### Question 6:"
   ]
  },
  {
   "cell_type": "markdown",
   "metadata": {},
   "source": [
    "Construire (ou récupérer du TP1) le polynôme d'interpolation de Lagrange aux points $(x_i)_{i=0,...,m}$. "
   ]
  },
  {
   "cell_type": "code",
   "execution_count": 359,
   "metadata": {},
   "outputs": [],
   "source": [
    "def Lagrange_pol(i,x,noeuds):\n",
    "    \"\"\"\n",
    "    i-eme polynome (de base) de Lagrange pour les noeuds choisis\n",
    "    \"\"\"\n",
    "    val = 1.\n",
    "    for j in range(len(noeuds)):\n",
    "        if not j == i:\n",
    "           val = 1\n",
    "    return val"
   ]
  },
  {
   "cell_type": "code",
   "execution_count": 360,
   "metadata": {},
   "outputs": [],
   "source": [
    "def Lagrange_app(x,noeuds,f_noeuds):\n",
    "    \"\"\"\n",
    "    approximation de Lagrange de degree i aux noeud choisis, au point x\n",
    "    \"\"\"\n",
    "    val = 0.\n",
    "    for i in range(0,len(noeuds)):\n",
    "        val += f_noeuds[i] \n",
    "    return val"
   ]
  },
  {
   "cell_type": "markdown",
   "metadata": {},
   "source": [
    "### Question 7"
   ]
  },
  {
   "cell_type": "markdown",
   "metadata": {},
   "source": [
    "Construire une fonction permettant de réordonner les points $(x_i)_{i=0,...,m}$ dans l'ordre croissant et ordonner le vecteur $(y_i)_{i=0,...,m}$ en conséquence."
   ]
  },
  {
   "cell_type": "code",
   "execution_count": 361,
   "metadata": {},
   "outputs": [],
   "source": [
    "def reordonne_noeuds(noeuds,f_noeuds):\n",
    "    noeuds_ordonnes=np.zeros(len(noeuds))\n",
    "    f_noeuds_ordonnes=np.zeros(len(f_noeuds))\n",
    "    l=[]\n",
    "    for i in range(0,len(noeuds)):\n",
    "        l=l+[[noeuds[i],f_noeuds[i]]] #on concatène les noeuds et f_noeuds\n",
    "    l=sorted(l, key=operator.itemgetter(0)) #permet de trier une liste en fonction du premier argument\n",
    "    for i in range(0,len(noeuds)):\n",
    "        noeuds_ordonnes[i]=noeuds[i] #on recupère le premier élément de chaque paire\n",
    "        f_noeuds_ordonnes[i]=f_noeuds[i] #et ici le dernier élément\n",
    "    return [noeuds_ordonnes,f_noeuds_ordonnes]"
   ]
  },
  {
   "cell_type": "markdown",
   "metadata": {},
   "source": [
    "### Question 8:"
   ]
  },
  {
   "cell_type": "markdown",
   "metadata": {},
   "source": [
    "Construire (ou récupérer) l'interpolation de Lagrange (de degrés 1) par morceaux aux points $(x_i)_{i=0,...,m}$. \n"
   ]
  },
  {
   "cell_type": "code",
   "execution_count": 362,
   "metadata": {},
   "outputs": [],
   "source": [
    "def identif_sousint(x,noeuds):\n",
    "    \"\"\"\n",
    "    identification du sousintervalle\n",
    "    \"\"\"\n",
    "    if(x<noeuds[0] or x>noeuds[len(noeuds)-1]):\n",
    "        print('x=', x, 'est hors de l intervalle', [noeuds[0],noeuds[len(noeuds)-1]])\n",
    "        #quit()\n",
    "        sys.exit(0)\n",
    "    j=0\n",
    "    for i in range(0,len(noeuds)-1):\n",
    "        if x>noeuds[i+1]:\n",
    "            j=0\n",
    "\n",
    "    return j "
   ]
  },
  {
   "cell_type": "code",
   "execution_count": 363,
   "metadata": {},
   "outputs": [],
   "source": [
    "def Lagrange_app_mor(x,s0,s1,f0,f1):\n",
    "    \"\"\"\n",
    "    approximation de Lagrange de degree 1 aux noeuds s0 et s1, au point x \n",
    "    \"\"\"\n",
    "    l_0 = 0\n",
    "    l_1 = 0\n",
    "    val = 0  \n",
    "    return val"
   ]
  },
  {
   "cell_type": "code",
   "execution_count": 364,
   "metadata": {},
   "outputs": [],
   "source": [
    "def Lagrange_morceaux(x,noeuds,f_noeuds):\n",
    "    \"\"\"\n",
    "    approximation de Lagrange par morceaux de degree 1 au point x\n",
    "    \"\"\"\n",
    "    k   = 0\n",
    "    Lpm = 0\n",
    "    return 0"
   ]
  },
  {
   "cell_type": "markdown",
   "metadata": {},
   "source": [
    "On compare ensuite les différentes interpolations de f pour m=20 et n=10 (par les moindres carres discrets, l'interpolation de Lagrange et celle par morceaux). Réduire la valeure de m. Qu'observe-t-on?"
   ]
  },
  {
   "cell_type": "code",
   "execution_count": 365,
   "metadata": {},
   "outputs": [],
   "source": [
    "\"\"\"\n",
    "domaine de definition et nombre de points\n",
    "\"\"\"\n",
    "x_min    = -1.\n",
    "x_max    =  1.\n",
    "\n",
    "N_points = 20\n",
    "\n",
    "N_grid   = 1000\n",
    "grid = [x_min + (i*1.)*(x_max-x_min)/(N_grid*1.) for i in range(0,N_grid+1)]\n",
    "\n",
    "\"\"\"\n",
    "noeuds x_i et valeurs f(x_i)\n",
    "\"\"\"\n",
    "[noeuds,f_noeuds] = data(N_points,x_min,x_max)\n"
   ]
  },
  {
   "cell_type": "code",
   "execution_count": 366,
   "metadata": {},
   "outputs": [],
   "source": [
    "\"\"\"\n",
    "construction du polynome d'approximation des moindres carres discrets\n",
    "\"\"\"\n",
    "degre     = 10\n",
    "coeff_pol = coeff_polynomiaux_MC(degre,noeuds,f_noeuds)\n",
    "f_MCD     = [polynome_MC(grid[i],coeff_pol) for i in range(0,N_grid+1)]\n"
   ]
  },
  {
   "cell_type": "code",
   "execution_count": 367,
   "metadata": {},
   "outputs": [
    {
     "data": {
      "image/png": "[encoded data removed]",
      "text/plain": [
       "<Figure size 432x288 with 1 Axes>"
      ]
     },
     "metadata": {},
     "output_type": "display_data"
    }
   ],
   "source": [
    "\"\"\"\n",
    "figure : f et son approximation\n",
    "\"\"\"\n",
    "\n",
    "fig = plt.figure(1)\n",
    "plt.axis([-1., 1., 0., 5.])\n",
    "plt.scatter(noeuds, f_noeuds  , color='red'  , label='$f$'  )\n",
    "plt.plot(grid, f_MCD, color='black'  , label='$f_{MCD}$'  )\n",
    "plt.legend()\n",
    "#fig.savefig('f.png')\n",
    "plt.show()"
   ]
  },
  {
   "cell_type": "code",
   "execution_count": 368,
   "metadata": {},
   "outputs": [
    {
     "data": {
      "image/png": "[encoded data removed]",
      "text/plain": [
       "<Figure size 432x288 with 1 Axes>"
      ]
     },
     "metadata": {},
     "output_type": "display_data"
    }
   ],
   "source": [
    "\"\"\"\n",
    "interpolation de Lagrange\n",
    "\"\"\"\n",
    "[noeuds,f_noeuds] = reordonne_noeuds(noeuds,f_noeuds)\n",
    "\n",
    "f_Lag = [Lagrange_app(grid[i],noeuds,f_noeuds) for i in range(0,N_grid+1)]\n",
    "fig=plt.figure(1)\n",
    "#plt.axis([-1., 1., 0., 5.])\n",
    "plt.scatter(noeuds, f_noeuds  , color='red'  , label='$f$'  )\n",
    "plt.plot(grid, f_Lag, color='blue'  , label='$f_{Lag}$'  )\n",
    "plt.legend()\n",
    "plt.show()\n",
    "#fig.savefig('f_Lag.png')\n"
   ]
  },
  {
   "cell_type": "code",
   "execution_count": 369,
   "metadata": {},
   "outputs": [
    {
     "data": {
      "image/png": "[encoded data removed]",
      "text/plain": [
       "<Figure size 432x288 with 1 Axes>"
      ]
     },
     "metadata": {},
     "output_type": "display_data"
    }
   ],
   "source": [
    "\"\"\"\n",
    "interpolation de Lagrange par morceaux\n",
    "\"\"\"\n",
    "f_IPM = [Lagrange_morceaux(grid[i],noeuds,f_noeuds) for i in range(0,N_grid+1)]\n",
    "plt.scatter(noeuds, f_noeuds  , color='red'  , label='$f$'  )\n",
    "plt.plot(grid, f_IPM, color='green'  , label='$f_{IPM}$'  )\n",
    "plt.legend()\n",
    "#fig.savefig('f_IPM.png')\n",
    "plt.show()"
   ]
  },
  {
   "cell_type": "code",
   "execution_count": null,
   "metadata": {},
   "outputs": [],
   "source": []
  },
  {
   "cell_type": "code",
   "execution_count": null,
   "metadata": {},
   "outputs": [],
   "source": []
  }
 ],
 "metadata": {
  "kernelspec": {
   "display_name": "Python 3",
   "language": "python",
   "name": "python3"
  },
  "language_info": {
   "codemirror_mode": {
    "name": "ipython",
    "version": 3
   },
   "file_extension": ".py",
   "mimetype": "text/x-python",
   "name": "python",
   "nbconvert_exporter": "python",
   "pygments_lexer": "ipython3",
   "version": "3.5.2"
  }
 },
 "nbformat": 4,
 "nbformat_minor": 2
}
