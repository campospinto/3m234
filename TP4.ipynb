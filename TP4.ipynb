{
 "cells": [
  {
   "cell_type": "markdown",
   "metadata": {},
   "source": [
    "# TP 4 - Résolution d'équations non linéaires"
   ]
  },
  {
   "cell_type": "markdown",
   "metadata": {},
   "source": [
    " Nous étudions plusieurs algorithmes pour déterminer une  racine $x^\\ast$  de la fonction\n",
    "$f : E\\subset \\mathbb{R} \\rightarrow \\mathbb{R}$. \n",
    "\n"
   ]
  },
  {
   "cell_type": "markdown",
   "metadata": {},
   "source": [
    "## 1. Méthode de dichotomie.  "
   ]
  },
  {
   "cell_type": "markdown",
   "metadata": {},
   "source": [
    "### 1.1 \n",
    "Ecrire une fonction dont \n",
    "1. les paramètres d'entrée sont : une fonction continue $f$ et deux réels $a$ et $b$ tels que    $f(a)f(b)<0$,\n",
    "1.  le paramètre de sortie  est $x_D^\\ast$ une approximation, obtenue par la méthode de dichotomie, d'un  zéro de $f$ situé entre $a$ et $b$. \n",
    "\n",
    "Prévoir un nombre maximal d'itération $N_{iter}$ et un seuil $\\varepsilon$. Le programme s'arrête, soit parce que le nombre d'itérations effectuées dépasse $N_{iter}$, soit parce que $|f(x_D^\\ast)|\\leq \\varepsilon$. \n",
    "Prévoir un moyen de savoir si le programme s'est arrêté parce qu'il a convergé ou s'il s'est arrêté parce que le nombre maximal d'itérations a été atteint."
   ]
  },
  {
   "cell_type": "code",
   "execution_count": 1,
   "metadata": {},
   "outputs": [],
   "source": [
    "def dichotomie(f,a,b):\n",
    "    # on suppose que f(a)f(b)<0\n",
    "    N,seuil=10, 1e-2 \n",
    "    x,y,sol=a,b,(a+b)/2. \n",
    "    trouve=abs(f(sol))< seuil\n",
    "    for n in range(N): \n",
    "        #\n",
    "        # completer cette partie\n",
    "        #\n",
    "    if trouve:\n",
    "        return(sol)  \n",
    "    else:\n",
    "        return(\"Echec !\")\n",
    "               "
   ]
  },
  {
   "cell_type": "markdown",
   "metadata": {},
   "source": [
    "### 1.2 \n",
    "On considère  l'équation\n",
    "$$e^{x-\\pi}=\\sin(\\frac{x}{2})$$\n",
    "dont l'unique solution est $x^\\ast=\\pi$. Définir une fonction $f$ associée à cette équation. Enoncer une condition sur $a$ et $b$ assurant que la méthode de dichotomie converge vers $x^\\ast$.  "
   ]
  },
  {
   "cell_type": "code",
   "execution_count": 2,
   "metadata": {},
   "outputs": [],
   "source": [
    "from math import pi, exp, sin\n",
    "def f(x):\n",
    "    return ###  "
   ]
  },
  {
   "cell_type": "markdown",
   "metadata": {},
   "source": [
    "### 1.3\n",
    "Tester le programme avec les paramètres  $N_{iter}=10$ et $\\varepsilon=0.01$.   \n"
   ]
  },
  {
   "cell_type": "code",
   "execution_count": 5,
   "metadata": {},
   "outputs": [
    {
     "name": "stdout",
     "output_type": "stream",
     "text": [
      "(3.140625, -0.0009670685198511775)\n"
     ]
    }
   ],
   "source": [
    "a,b=2,4\n",
    "xD=dichotomie(f,a,b)\n",
    "if isinstance(xD, float): \n",
    "    print(xD, f(xD))\n",
    "else:\n",
    "    print(xD)  "
   ]
  },
  {
   "cell_type": "markdown",
   "metadata": {},
   "source": [
    "### 1.4\n",
    "Modifier la fonction précédente pour qu'elle renvoie, cette fois, la liste des approximations successives obtenues pas la méthode. Représentez les graphiquement.  On fixera $\\varepsilon =  10^{-4}$ et $N_{iter}=50$. \n"
   ]
  },
  {
   "cell_type": "code",
   "execution_count": 6,
   "metadata": {
    "collapsed": true
   },
   "outputs": [],
   "source": [
    "def dichotomieBis(f,a,b): "
   ]
  },
  {
   "cell_type": "code",
   "execution_count": 7,
   "metadata": {
    "scrolled": true
   },
   "outputs": [
    {
     "name": "stdout",
     "output_type": "stream",
     "text": [
      "3.1416015625\n",
      "[3.0, 3.5, 3.25, 3.125, 3.1875, 3.15625, 3.140625, 3.1484375, 3.14453125, 3.142578125, 3.1416015625]\n"
     ]
    }
   ],
   "source": [
    "a,b=2,4\n",
    "xD,approximations=dichotomieBis(f,a,b)\n",
    "print(xD)\n",
    "print(approximations) \n",
    "\n",
    "import matplotlib.pyplot as plt \n",
    "plt.plot(range(len(approximations)), approximations, marker=\"p\") \n",
    "plt.show()\n",
    "# voir TP précédents pour améliorer le dessin!"
   ]
  },
  {
   "cell_type": "markdown",
   "metadata": {},
   "source": [
    "## 2. Méthode du point fixe. \n",
    "On pose \n",
    "$$g(x)=x-  f(x).$$ \n",
    "### 2.1\n",
    "Calculer une approximation de $x^\\ast$ par la méthode du point fixe appliquée à la fonction $g$.  \n",
    "Pramètres d'entrée : $g$, $N_{iter}$, $\\varepsilon$ et une approximation initiale $x_0$. Attention à bien définir un test d'arrêt. \n"
   ]
  },
  {
   "cell_type": "code",
   "execution_count": 33,
   "metadata": {
    "collapsed": true
   },
   "outputs": [],
   "source": [
    "def PointFixe(f,N,seuil,x0):  \n",
    "    x1=f(x0)\n",
    "    trouve=abs(x1-x0)< seuil       \n",
    "    for n in range(N):\n",
    "        if trouve:\n",
    "            break\n",
    "        # completer\n",
    "        # completer\n",
    "    if trouve:\n",
    "        return(x1)  \n",
    "    else:\n",
    "        return(\"Echec !\")\n",
    "               "
   ]
  },
  {
   "cell_type": "markdown",
   "metadata": {},
   "source": [
    "### 2.2\n",
    "Faire tourner le programme avec $x_0=2$. "
   ]
  },
  {
   "cell_type": "code",
   "execution_count": null,
   "metadata": {},
   "outputs": [],
   "source": [
    "x0=2\n",
    "def g(x):\n",
    "    return x- f(x)\n",
    "xF=PointFixe(g,100,0.01,x0)\n",
    "if isinstance(xF, float): \n",
    "    print(xF, xF-g(xF), f(xF))\n",
    "else:\n",
    "    print(xF)\n",
    "print(xF)    "
   ]
  },
  {
   "cell_type": "markdown",
   "metadata": {},
   "source": [
    "### 2.3\n",
    "Modifier la fonction précédente pour qu'elle renvoie, cette fois, la liste des approximations successives $(x_i)_i$ obtenues pas la méthode. Représenter les   graphiquement."
   ]
  },
  {
   "cell_type": "code",
   "execution_count": 10,
   "metadata": {
    "collapsed": true
   },
   "outputs": [],
   "source": [
    "def PointFixeBis(f,N,seuil,x0):  \n"
   ]
  },
  {
   "cell_type": "code",
   "execution_count": 11,
   "metadata": {},
   "outputs": [
    {
     "name": "stdout",
     "output_type": "stream",
     "text": [
      "3.14159265359\n",
      "[ -1.14160156e+00  -2.05270655e-01  -2.49666955e-02  -3.95639932e-04\n",
      "  -9.00237612e-06  -8.90891021e-06]\n"
     ]
    }
   ],
   "source": [
    "N,x0,seuil=100,2,0.0001\n",
    "xF,approximations=PointFixeBis(g,N,seuil,x0)\n",
    "import numpy as np\n",
    "approximations=np.array(approximations)\n",
    "print(xF)\n",
    "print(approximations-xD) \n",
    "\n",
    "import matplotlib.pyplot as plt  \n",
    "plt.plot(range(len(approximations)), approximations, marker=\"p\") \n",
    "\n",
    "plt.show() "
   ]
  },
  {
   "cell_type": "markdown",
   "metadata": {},
   "source": [
    "## 3. Méthode de Newton. \n",
    "\n",
    " ### 3.1 \n",
    " Ecrire la méthode  de Newton pour résoudre l'équation $f(x)=0$. Programmer cette méthode. \n"
   ]
  },
  {
   "cell_type": "code",
   "execution_count": 5,
   "metadata": {},
   "outputs": [],
   "source": [
    "def Newton(f,fp,N,seuil,x0):  \n",
    "    x0=x0-f(x0)/fp(x0)       # Attention : prevoir le cas f'(x_k)=0\n",
    "    trouve=abs(f(x0))< seuil       \n",
    "    for n in range(N):\n",
    "        if trouve or abs(f(x0))< seuil:\n",
    "            break\n",
    "        #completer \n",
    "    if trouve:\n",
    "        return(x0)  \n",
    "    else:\n",
    "        return(\"Echec !\")"
   ]
  },
  {
   "cell_type": "markdown",
   "metadata": {},
   "source": [
    "### 3.2\n",
    "Modifier la fonction précédente pour qu'elle renvoie, cette fois, la liste des approximations successives $(x_i)_i$ obtenues pas la méthode. Représenter les   graphiquement.\n"
   ]
  },
  {
   "cell_type": "code",
   "execution_count": 14,
   "metadata": {},
   "outputs": [],
   "source": [
    "def NewtonBis(f,fp,N,seuil,x0):  "
   ]
  },
  {
   "cell_type": "markdown",
   "metadata": {},
   "source": [
    "### 3.2\n",
    "On considère la courbe d'équation cartésienne $$b^2y^2=x^3(a-x)$$ \n",
    "où $a$ et $b$ sont deux nombres réels positifs fixés. Montrer que $x\\in[0,a]$.  Ce qu'on suppose par la suite. On définit un tableau contenant une subdivision de cet intervalle, par exemple par l'instruction \n",
    "\n",
    "<center>X=np.linspace(0,a) </center>  \n",
    "\n",
    "On fixe $a=2$ et $b=1$.\n",
    "Pour chaque valeur de X, calculer  par la méthode de Newton  la solution de l'équation (en $y$)\n",
    "$$b^2y^2-x^3(a-x)=0$$ obtenue en initialisant la méthode de Newton par $x_0=0.5$. On gardera ces solutions dans un tableau Y (qui a donc la même dimension que X). \n",
    "\n",
    "Définir de même un tableau Z obtenu en initialisant la méthode de Newton par $x_0=-0.5$. \n",
    "\n",
    "Tracer la courbe d'équation cartésienne $$b^2y^2=x^3(a-x).$$\n",
    "\n",
    "Comparer avec la courbe calculée en traçant les courbes \n",
    "$$y\\longrightarrow \\frac{1}{b} \\sqrt{x^3(a-x)} $$ \n",
    "et \n",
    "$$y\\longrightarrow -\\frac{1}{b} \\sqrt{x^3(a-x)}.$$ "
   ]
  },
  {
   "cell_type": "code",
   "execution_count": 8,
   "metadata": {},
   "outputs": [],
   "source": [
    "def f(y):\n",
    "    return b*b*y*y-x**3*(a-x)\n",
    "def fp(y):\n",
    "    return 2*b*b*y "
   ]
  },
  {
   "cell_type": "markdown",
   "metadata": {},
   "source": [
    "Faire tourner le programme en fixant $x=a/2$, $\\varepsilon=10^{-3}$, $N=100_{iter}$ et l'initialisation $y_0=2.5$. "
   ]
  },
  {
   "cell_type": "code",
   "execution_count": 11,
   "metadata": {},
   "outputs": [
    {
     "name": "stdout",
     "output_type": "stream",
     "text": [
      "1.0000025906097367 5.1812261847583585e-06 5.1812261847583585e-06\n"
     ]
    }
   ],
   "source": [
    "a=2;b=1;seuil=1e-4;x=a/2\n",
    "seuil=1e-3\n",
    "x0=2.5\n",
    "N=100\n",
    "def g(x):\n",
    "    return x- f(x)\n",
    "xN=Newton(f,fp,N,seuil,x0)\n",
    "if isinstance(xN, float):\n",
    "    print(xN, xN-g(xN), f(xN))\n",
    "else:\n",
    "    print(xN)\n",
    "        "
   ]
  },
  {
   "cell_type": "code",
   "execution_count": 16,
   "metadata": {},
   "outputs": [
    {
     "data": {
      "text/plain": [
       "<matplotlib.figure.Figure at 0x7f84d6fb8a90>"
      ]
     },
     "metadata": {},
     "output_type": "display_data"
    }
   ],
   "source": [
    "N,x0,seuil=100,2,0.0001\n",
    "xN,approximations=NewtonBis(f,fp,N,seuil,x0)\n",
    "import numpy as np\n",
    "approximations=np.array(approximations) \n",
    "\n",
    "import matplotlib.pyplot as plt  \n",
    "plt.plot(range(len(approximations)), approximations, marker=\"p\") \n",
    "\n",
    "plt.show() "
   ]
  },
  {
   "cell_type": "code",
   "execution_count": 3,
   "metadata": {},
   "outputs": [],
   "source": [
    "x=a/2\n",
    "seuil=1e-5\n",
    "x0=2.5\n",
    "N=100\n",
    "def g(x):\n",
    "    return x- f(x) "
   ]
  },
  {
   "cell_type": "code",
   "execution_count": 18,
   "metadata": {},
   "outputs": [],
   "source": [
    "a=2;b=1;seuil=1e-4;x0=.5\n",
    "X=np.linspace(0,a) \n",
    "Yh=np.zeros(len(X))\n",
    "Yb=np.zeros(len(X))\n",
    "for k in range(len(X)):\n",
    "    x=X[k]\n",
    "    Yh[k]=Newton(f,fp,N,seuil, x0) \n",
    "    Yb[k]=Newton(f,fp,N,seuil, -x0) \n"
   ]
  },
  {
   "cell_type": "code",
   "execution_count": 318,
   "metadata": {},
   "outputs": [
    {
     "data": {
      "image/png": "[encoded data removed]",
      "text/plain": [
       "<matplotlib.figure.Figure at 0x7faa9524f9e8>"
      ]
     },
     "metadata": {
      "needs_background": "light"
     },
     "output_type": "display_data"
    }
   ],
   "source": [
    "plt.plot(X,Yh,X,Yb) \n",
    "plt.show()"
   ]
  },
  {
   "cell_type": "code",
   "execution_count": 28,
   "metadata": {},
   "outputs": [],
   "source": [
    "def sol(x):\n",
    "    return np.sqrt(x**3*(a-x))/b "
   ]
  },
  {
   "cell_type": "code",
   "execution_count": 31,
   "metadata": {},
   "outputs": [
    {
     "data": {
      "image/png": "[encoded data removed]",
      "text/plain": [
       "<matplotlib.figure.Figure at 0x7f84d20106d8>"
      ]
     },
     "metadata": {
      "needs_background": "light"
     },
     "output_type": "display_data"
    }
   ],
   "source": [
    "plt.plot(X,Yh,X,Yb,X,sol(X), marker=\"p\") \n",
    "plt.show()"
   ]
  },
  {
   "cell_type": "code",
   "execution_count": null,
   "metadata": {
    "collapsed": true
   },
   "outputs": [],
   "source": [
    "print(sol(.45))"
   ]
  },
  {
   "cell_type": "code",
   "execution_count": null,
   "metadata": {
    "collapsed": true
   },
   "outputs": [],
   "source": []
  }
 ],
 "metadata": {
  "kernelspec": {
   "display_name": "Python 3",
   "language": "python",
   "name": "python3"
  },
  "language_info": {
   "codemirror_mode": {
    "name": "ipython",
    "version": 3
   },
   "file_extension": ".py",
   "mimetype": "text/x-python",
   "name": "python",
   "nbconvert_exporter": "python",
   "pygments_lexer": "ipython3",
   "version": "3.6.4"
  }
 },
 "nbformat": 4,
 "nbformat_minor": 2
}
