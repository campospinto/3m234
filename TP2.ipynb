{
 "cells": [
  {
   "cell_type": "markdown",
   "metadata": {},
   "source": [
    "# TP 2 - Interpolation par morceaux"
   ]
  },
  {
   "cell_type": "markdown",
   "metadata": {},
   "source": [
    "Dans ce TP, nous allons nous intéresser aux interpolations de Lagrange et d'Hermite par morceaux de la fonction\n",
    "\n",
    "$$\n",
    "f(x) =  \\begin{cases}e^x & \\text{ pour }x\\in[0,1]\\\\ \n",
    "e^{-x} & \\text{ pour }x\\in]1,2]. \n",
    "\\end{cases}\n",
    "$$\n"
   ]
  },
  {
   "cell_type": "code",
   "execution_count": null,
   "metadata": {},
   "outputs": [],
   "source": [
    "import math\n",
    "import numpy as np\n",
    "import matplotlib.pyplot as plt"
   ]
  },
  {
   "cell_type": "markdown",
   "metadata": {},
   "source": [
    "On introduit f et sa dérivée :"
   ]
  },
  {
   "cell_type": "code",
   "execution_count": null,
   "metadata": {},
   "outputs": [],
   "source": [
    "def f(x):\n",
    "     if(x<1.): \n",
    "          return math.exp( x)   \n",
    "     else:\n",
    "          return math.exp(-x)"
   ]
  },
  {
   "cell_type": "code",
   "execution_count": null,
   "metadata": {},
   "outputs": [],
   "source": [
    "def fprime(x):\n",
    "    if(x<1.): \n",
    "          return  math.exp( x)\n",
    "    else:\n",
    "          return -math.exp(-x)\n",
    "      "
   ]
  },
  {
   "cell_type": "markdown",
   "metadata": {},
   "source": [
    "Dans la suite, on aura besoin de la fonction suivante qui calcule les noeuds correspondant à un découpage régulier d'un intervalle $[x_{min}, x_{max}]$ en $n$ sous-intervalles."
   ]
  },
  {
   "cell_type": "code",
   "execution_count": null,
   "metadata": {},
   "outputs": [],
   "source": [
    "def repartition_points(x_min,x_max,n):\n",
    "    \"\"\"\n",
    "    construction des noeuds pour l'interpolation par morceaux\n",
    "    \"\"\"\n",
    "    val = np.zeros(n+1)\n",
    "    for i in range(n+1):\n",
    "        val[i] = x_min + (i*1.) * (x_max-x_min) / n\n",
    "    return val"
   ]
  },
  {
   "cell_type": "markdown",
   "metadata": {},
   "source": [
    "### Question 1.\n",
    "\n",
    "Des réels $x_{min}$ et $x_{max}$ étant donnés, on considère une partition arbitraire de $[x_{min}, x_{max}]$ en sous-intervalles $[x_j,x_{j+1}]$, $0 \\leq j \\leq n-1$. \n",
    "\n",
    "Modifier la fonction `identif_sousint` ci-dessous pour que, à un point donné $x\\in [x_{min}, x_{max}]$, elle associe l'indice $j$ d'un sous-intervalle $[x_j,x_{j+1}]$ auquel $x$ appartient."
   ]
  },
  {
   "cell_type": "code",
   "execution_count": null,
   "metadata": {},
   "outputs": [],
   "source": [
    "\"\"\"\n",
    "noeuds : vecteur de points (x_j)_{j = 0, .., n} correspondant a une subdivision du domaine [x_min,x_max] \n",
    "\n",
    "j      : indice tel que x appartient a l'intervalle [noeuds[j],noeuds[j+1]]  \n",
    "\"\"\"\n",
    "\n",
    "def identif_sousint(x,noeuds):\n",
    "    n = len(noeuds)-1\n",
    "    if(x < noeuds[0] or x > noeuds[n]):\n",
    "        print ('x=', x, 'est hors du domaine [x_min, x_max] = ', [noeuds[0],noeuds[n]])\n",
    "        quit()\n",
    "    j = 0\n",
    "    return j\n"
   ]
  },
  {
   "cell_type": "markdown",
   "metadata": {},
   "source": [
    "### Question 2.\n",
    "\n",
    "On note $\\mathcal{L}_1 f$ le polynôme d'interpolation de Lagrange de $f$ de degré 1 aux points $s_0$ et $s_1$.\n",
    "Compléter le programme ci-dessous pour que la fonction `Lagrange_2_pts` renvoie la valeur de $\\mathcal{L}_1 f$ en $x$.\n",
    "\n"
   ]
  },
  {
   "cell_type": "code",
   "execution_count": null,
   "metadata": {},
   "outputs": [],
   "source": [
    "def Lagrange_2_pts(x,s0,s1):\n",
    "     \n",
    "    L = 0.    \n",
    "    return L\n"
   ]
  },
  {
   "cell_type": "markdown",
   "metadata": {},
   "source": [
    "### Question 3.\n",
    "\n",
    "Comme dans la question 1., on considère une partition arbitraire de $[x_{min}, x_{max}]$ en sous-intervalles $[x_j,x_{j+1}]$, $0 \\leq j \\leq n-1$ et on introduit la fonction d'interpolation de Lagrange par morceaux qui est définie, sur chaque sous-intervalle $[x_j,x_{j+1}]$, par le polynôme d'interpolation de Lagrange de $f$ de degré 1 aux points $x_j$ et $x_{j+1}$. Modifier la fonction suivante pour qu'elle renvoie la valeur en $x$ de la fonction d'interpolation de Lagrange par morceaux.\n"
   ]
  },
  {
   "cell_type": "code",
   "execution_count": null,
   "metadata": {},
   "outputs": [],
   "source": [
    "def Lagrange_morceaux(x,noeuds):\n",
    "    \n",
    "    Lpm = 0.   \n",
    "    return Lpm\n",
    "\n"
   ]
  },
  {
   "cell_type": "markdown",
   "metadata": {},
   "source": [
    "### Question 4.\n",
    "\n",
    "On souhaite maintenant tester l'algorithme. Le programme suivant permet de tracer les graphes de $f$ et de son approximation de Lagrange par morceaux pour $n=3$. Tester aussi pour $n=\\ 10,\\ 50,\\ 200$. "
   ]
  },
  {
   "cell_type": "code",
   "execution_count": null,
   "metadata": {},
   "outputs": [],
   "source": [
    "x_min      = 0.\n",
    "x_max      = 2.\n",
    "n          = 3\n",
    "noeuds     = repartition_points(x_min,x_max,n)\n",
    "N_maillage = 1000"
   ]
  },
  {
   "cell_type": "code",
   "execution_count": null,
   "metadata": {},
   "outputs": [],
   "source": [
    "maillage   = [x_min + (i*1.)*(x_max-x_min)/(N_maillage*1.) for i in range(0,N_maillage+1)]\n",
    "vals_f     = [f(maillage[i]) for i in range(0,N_maillage+1)]\n",
    "vals_LagPM = [Lagrange_morceaux(maillage[i],noeuds) for i in range(0,N_maillage+1)]"
   ]
  },
  {
   "cell_type": "code",
   "execution_count": null,
   "metadata": {},
   "outputs": [],
   "source": [
    "fig1 = plt.figure(1)\n",
    "plt.axis([0., 2., -0.5, 3.])\n",
    "plt.plot(maillage, vals_f  , color='red'  , label='$f(x)$'  )\n",
    "plt.plot(maillage, vals_LagPM, color='black', label='$I_L f(x)$')\n",
    "plt.legend()\n",
    "fig1.savefig('f_LPM.png')\n",
    "plt.show()"
   ]
  },
  {
   "cell_type": "markdown",
   "metadata": {},
   "source": [
    "### Question 5.\n",
    "\n",
    "On s'intéresse maintenant à l'approximation par morceaux de Hermite à deux points d'ordre $1$. Le polynôme d'interpolation de Hermite aux points $s_0$ et $s_1$ est donné par \n",
    "\\begin{eqnarray*}\n",
    "\\mathcal{H}_1 f(x)&:=&\\sum_{i=0}^1 \\left(f(s_i)+(x-s_i)\\left(f'(s_i)-\\frac{2}{s_i-s_j}f(s_i)\\right)\\right) p_i(x), \\qquad \\text{ où $j\\in\\{0,1\\}$, $j\\neq i$}, \\\\\n",
    "p_i(x)&:=&\\Big(\\frac{x-s_j}{s_i-s_j}\\Big)^2, \\qquad \\text{ où $j\\in\\{0,1\\}$, $j\\neq i$}.\n",
    "\\end{eqnarray*}\n",
    "\n",
    "Compléter la fonction suivante pour qu'elle donne la valeur du polynôme de Hermite au point $x$.\n"
   ]
  },
  {
   "cell_type": "code",
   "execution_count": null,
   "metadata": {},
   "outputs": [],
   "source": [
    "def Hermite_2_pts(x,s0,s1):\n",
    "        \n",
    "    H = 0.   \n",
    "    return H\n",
    "\n",
    "    "
   ]
  },
  {
   "cell_type": "markdown",
   "metadata": {},
   "source": [
    "Utiliser cette fonction pour construire l'approximation par morceaux de Hermite dans la fonction suivante : "
   ]
  },
  {
   "cell_type": "code",
   "execution_count": null,
   "metadata": {},
   "outputs": [],
   "source": [
    "def Hermite_morceaux(x,noeuds):\n",
    "    \n",
    "    Hpm = 0.   \n",
    "    return Hpm\n"
   ]
  },
  {
   "cell_type": "markdown",
   "metadata": {},
   "source": [
    "On teste maintenant cette fonction et on la compare graphiquement à $f$."
   ]
  },
  {
   "cell_type": "code",
   "execution_count": null,
   "metadata": {},
   "outputs": [],
   "source": [
    "vals_HerPM = [Hermite_morceaux(maillage[i],noeuds) for i in range(0,N_maillage+1)]"
   ]
  },
  {
   "cell_type": "code",
   "execution_count": null,
   "metadata": {},
   "outputs": [],
   "source": [
    "fig2 = plt.figure(2)\n",
    "plt.axis([0., 2., -0.5, 3.])\n",
    "plt.plot(maillage, vals_f  , color='red'  , label='$f(x)$'  )\n",
    "plt.plot(maillage, vals_HerPM, color='black', label='$I_H f(x)$')\n",
    "plt.legend()\n",
    "fig2.savefig('f_HPM.png')\n",
    "plt.show()"
   ]
  },
  {
   "cell_type": "markdown",
   "metadata": {},
   "source": [
    "### Question 6.\n",
    "\n",
    "Récupérer dans le TP précédent la fonction qui renvoie le polynôme d'interpolation de Lagrange aux points de Tchebychev.  Comparer les résultats donnés par l'interpolation de Lagrange par morceaux et par l'interpolation de Lagrange aux points de Tchebychev pour $N = 5,\\ 10,\\ 40$ points. "
   ]
  },
  {
   "cell_type": "code",
   "execution_count": null,
   "metadata": {},
   "outputs": [],
   "source": [
    "def points_Tcheb(x_min,x_max,N_points):\n",
    " \n",
    "    pi  = np.pi # 2. * math.acos(0.)\n",
    "    points = np.zeros(N_points)\n",
    "    for i in range(0,N_points):\n",
    "        points[i] = (x_min + x_max)/2. + math.cos((i+1./2.)*pi/N_points) * (x_max-x_min)/2.\n",
    "    return points"
   ]
  },
  {
   "cell_type": "code",
   "execution_count": null,
   "metadata": {},
   "outputs": [],
   "source": [
    "def l_i(i,x,points):\n",
    "    \"\"\"\n",
    "    i-eme polynome (de base) de Lagrange pour les points choisis\n",
    "    \"\"\"\n",
    "    val = 1.\n",
    "    return val"
   ]
  },
  {
   "cell_type": "code",
   "execution_count": null,
   "metadata": {},
   "outputs": [],
   "source": [
    "def Lagrange_pol(x,points):\n",
    "    \"\"\"\n",
    "    valeur du polynome de Lagrange de degré len(points)-1 en x\n",
    "    \"\"\"\n",
    "    val = 0. \n",
    "    return val"
   ]
  },
  {
   "cell_type": "code",
   "execution_count": null,
   "metadata": {},
   "outputs": [],
   "source": [
    "N_points = 40\n",
    "points = points_Tcheb(x_min,x_max,N_points)\n",
    "vals_Lagr = [Lagrange_pol(maillage[i],points) for i in range(0,N_maillage+1)]\n",
    "\n",
    "\n",
    "\"\"\"\n",
    "figure 3 : f et son approximation de Lagrange de degré N_points-1\n",
    "\"\"\"\n",
    "fig3 = plt.figure(3)\n",
    "plt.axis([-0.1, 2.1, -0.1, 3.1])\n",
    "plt.plot(maillage, vals_f   , color='red'  , label='$f(x)$'  )\n",
    "plt.plot(maillage, vals_Lagr, color='black', label='$L f(x)$')\n",
    "plt.legend()\n",
    "fig3.savefig('f_Lag.png')\n",
    "plt.show()"
   ]
  },
  {
   "cell_type": "markdown",
   "metadata": {},
   "source": [
    "### Question 7.\n",
    "\n",
    "On prend maintenant $M+1$ points par sous-intervalle et on considère l'approximation par morceaux de Lagrange de degré $M$. Définir dans la fonction suivante l'approximation par morceaux de Lagrange de degré $M$ en les points de Tchebychev. On utilisera la fonction `Lagrange_pol`. "
   ]
  },
  {
   "cell_type": "code",
   "execution_count": null,
   "metadata": {},
   "outputs": [],
   "source": [
    "def Lagrange_app_M(x,noeuds,M):\n",
    "    \"\"\"\n",
    "    noeuds : vecteur de points de l'intervalle [x_min,x_max]\n",
    "    \"\"\"\n",
    "    Lpm=0 \n",
    "    return Lpm"
   ]
  },
  {
   "cell_type": "markdown",
   "metadata": {},
   "source": [
    "On affiche ensuite l'approximation par morceaux de Lagrange de degré M en les points de Tchebychev."
   ]
  },
  {
   "cell_type": "code",
   "execution_count": null,
   "metadata": {},
   "outputs": [],
   "source": [
    "N_noeuds = 5\n",
    "M = 4\n",
    "noeuds = repartition_points(x_min,x_max,N_noeuds)\n",
    "vals_LPM_degreM = [Lagrange_app_M(maillage[i],noeuds,M) for i in range(0,N_maillage+1)]"
   ]
  },
  {
   "cell_type": "code",
   "execution_count": null,
   "metadata": {},
   "outputs": [],
   "source": [
    "\"\"\"\n",
    "figure 4 : f et son approximation par morceaux de Lagrange de degré M\n",
    "\"\"\"\n",
    "fig4 = plt.figure(4)\n",
    "plt.axis([-0.1, 2.1, -0.1, 3.1])\n",
    "plt.plot(maillage, vals_f   , color='red'  , label='$f(x)$'  )\n",
    "plt.plot(maillage, vals_LPM_degreM, color='black', label='$L f(x)$')\n",
    "plt.legend()\n",
    "fig4.savefig('f_LPM_degreM.png')\n",
    "plt.show()"
   ]
  },
  {
   "cell_type": "markdown",
   "metadata": {},
   "source": [
    "### Question 8.\n",
    "\n",
    "Toujours avec $M+1$ points par sous-intervalle, on considère maintenant l'approximation par morceaux de Hermite de degré $2M+1$ (pour laquelle on fait intervenir les valeurs de $f$ et de sa dérivée en les $M+1$ points). Le polynôme d'interpolation de Hermite aux points $(s_i)_{i=0,\\dots,M}$ est donné par \n",
    "\\begin{eqnarray*}\n",
    "\\mathcal{H}_M f(x) &:=& \\sum_{i=0}^M \\left(f(s_i)+(x-s_i)\\left(f'(s_i)-f(s_i)\\sum_{\\underset{j\\neq i}{j=0,\\dots,M}}\\frac{2}{s_i-s_j}\\right)\\right)p_i(x),\\\\\n",
    "p_i(x) &:=& \\underset{j\\neq i}{\\prod_{j=0}^{M}}\\Big(\\frac{x-s_j}{s_i-s_j}\\Big)^2.\n",
    "\\end{eqnarray*}\n",
    "\n",
    "On souhaite programmer l'approximation par morceaux de Hermite de degré $2M+1$ en les points de Tchebychev. \n",
    "\n",
    "Pour cela, on définit d'abord le polynôme $p_i$, un ensemble de points $(s_i)_{i=0,\\dots,M}$ étant donné :"
   ]
  },
  {
   "cell_type": "code",
   "execution_count": null,
   "metadata": {},
   "outputs": [],
   "source": [
    "def p_i(i,x,points):\n",
    "    \"\"\"\n",
    "    points est un vecteur contenant les points s_i\n",
    "    \"\"\"\n",
    "    val = 1.\n",
    "    for j in range(len(points)):\n",
    "        if j != i:\n",
    "           val *= (x-points[j])**2/(points[i]-points[j])**2\n",
    "    return val"
   ]
  },
  {
   "cell_type": "markdown",
   "metadata": {},
   "source": [
    "On définit ensuite le polynôme de Hermite aux points $(s_i)_{i=0,\\dots,M}$ :"
   ]
  },
  {
   "cell_type": "code",
   "execution_count": null,
   "metadata": {},
   "outputs": [],
   "source": [
    "def Hermite_pol(x,points):\n",
    "    val = 0.\n",
    "    return val"
   ]
  },
  {
   "cell_type": "markdown",
   "metadata": {},
   "source": [
    "Utiliser cette fonction pour construire l'approximation par morceaux de Hermite de degré $2M+1$ en les points de Tchebychev. "
   ]
  },
  {
   "cell_type": "code",
   "execution_count": null,
   "metadata": {},
   "outputs": [],
   "source": [
    "def Hermite_app_M(x,noeuds,M):\n",
    "    \"\"\"\n",
    "    noeuds : vecteur de points de l'intervalle [x_min,x_max]\n",
    "    \"\"\"\n",
    "    Hpm=0\n",
    "    return Hpm"
   ]
  },
  {
   "cell_type": "markdown",
   "metadata": {},
   "source": [
    "Enfin, on affiche cette approximation."
   ]
  },
  {
   "cell_type": "code",
   "execution_count": null,
   "metadata": {},
   "outputs": [],
   "source": [
    "N_noeuds = 5\n",
    "M = 4\n",
    "noeuds = repartition_points(x_min,x_max,N_noeuds)\n",
    "vals_HPM_degreM = [Hermite_app_M(maillage[i],noeuds,M) for i in range(0,N_maillage+1)]"
   ]
  },
  {
   "cell_type": "code",
   "execution_count": null,
   "metadata": {},
   "outputs": [],
   "source": [
    "\"\"\"\n",
    "figure 5 : f et son approximation par morceaux de Hermite de degré M\n",
    "\"\"\"\n",
    "fig5 = plt.figure(5)\n",
    "plt.axis([-0.1, 2.1, -0.1, 3.1])\n",
    "plt.plot(maillage, vals_f   , color='red'  , label='$f(x)$'  )\n",
    "plt.plot(maillage, vals_HPM_degreM, color='black', label='$H f(x)$')\n",
    "plt.legend()\n",
    "fig5.savefig('f_HPM_degreM.png')\n",
    "plt.show()"
   ]
  }
 ],
 "metadata": {
  "kernelspec": {
   "display_name": "Python 3",
   "language": "python",
   "name": "python3"
  },
  "language_info": {
   "codemirror_mode": {
    "name": "ipython",
    "version": 3
   },
   "file_extension": ".py",
   "mimetype": "text/x-python",
   "name": "python",
   "nbconvert_exporter": "python",
   "pygments_lexer": "ipython3",
   "version": "3.6.4"
  }
 },
 "nbformat": 4,
 "nbformat_minor": 2
}
